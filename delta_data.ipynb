{
  "nbformat": 4,
  "nbformat_minor": 0,
  "metadata": {
    "colab": {
      "provenance": [],
      "collapsed_sections": [],
      "include_colab_link": true
    },
    "kernelspec": {
      "name": "python3",
      "display_name": "Python 3"
    },
    "language_info": {
      "name": "python"
    }
  },
  "cells": [
    {
      "cell_type": "markdown",
      "metadata": {
        "id": "view-in-github",
        "colab_type": "text"
      },
      "source": [
        "<a href=\"https://colab.research.google.com/github/tokensalad/test_colab/blob/main/delta_data.ipynb\" target=\"_parent\"><img src=\"https://colab.research.google.com/assets/colab-badge.svg\" alt=\"Open In Colab\"/></a>"
      ]
    },
    {
      "cell_type": "code",
      "execution_count": null,
      "metadata": {
        "id": "11Yis7mX5Y7k"
      },
      "outputs": [],
      "source": [
        "!pip install -q datasmoothie-tally-client"
      ]
    },
    {
      "cell_type": "code",
      "source": [
        "import tally"
      ],
      "metadata": {
        "id": "Od4_NPRt52tq"
      },
      "execution_count": null,
      "outputs": []
    },
    {
      "cell_type": "code",
      "source": [
        "from google.colab import drive\n",
        "drive.mount('/content/drive')"
      ],
      "metadata": {
        "id": "3R5224noyA3B",
        "colab": {
          "base_uri": "https://localhost:8080/"
        },
        "outputId": "0818b138-e264-4d69-9590-83b75599816c"
      },
      "execution_count": null,
      "outputs": [
        {
          "output_type": "stream",
          "name": "stdout",
          "text": [
            "Mounted at /content/drive\n"
          ]
        }
      ]
    },
    {
      "cell_type": "code",
      "source": [
        "ds = tally.DataSet(api_key=\"b97f7c63919f9a416c652909f9c552c26ffcf107\")"
      ],
      "metadata": {
        "id": "CmHtU3K46Cqp"
      },
      "execution_count": null,
      "outputs": []
    },
    {
      "cell_type": "code",
      "source": [
        "ds.use_spss('drive/MyDrive/deltapoll tally/Wave 10/ORD-727547-V8P0_2022.06.20_Final_Data_SPSS.sav')\n",
        "#ds.use_spss('ORD-727547-V8P0_2022.06.20_Final_Data_SPSS.sav')\n"
      ],
      "metadata": {
        "id": "ZGgKViNp6PAM",
        "colab": {
          "base_uri": "https://localhost:8080/",
          "height": 305
        },
        "outputId": "bec780dc-b4be-4b80-c4b4-40e1fd914251"
      },
      "execution_count": null,
      "outputs": [
        {
          "output_type": "error",
          "ename": "FileNotFoundError",
          "evalue": "ignored",
          "traceback": [
            "\u001b[0;31m---------------------------------------------------------------------------\u001b[0m",
            "\u001b[0;31mFileNotFoundError\u001b[0m                         Traceback (most recent call last)",
            "\u001b[0;32m<ipython-input-5-063b720c0605>\u001b[0m in \u001b[0;36m<module>\u001b[0;34m\u001b[0m\n\u001b[0;32m----> 1\u001b[0;31m \u001b[0mds\u001b[0m\u001b[0;34m.\u001b[0m\u001b[0muse_spss\u001b[0m\u001b[0;34m(\u001b[0m\u001b[0;34m'drive/MyDrive/deltapoll tally/Wave 10/ORD-727547-V8P0_2022.06.20_Final_Data_SPSS.sav'\u001b[0m\u001b[0;34m)\u001b[0m\u001b[0;34m\u001b[0m\u001b[0;34m\u001b[0m\u001b[0m\n\u001b[0m\u001b[1;32m      2\u001b[0m \u001b[0;31m#ds.use_spss('ORD-727547-V8P0_2022.06.20_Final_Data_SPSS.sav')\u001b[0m\u001b[0;34m\u001b[0m\u001b[0;34m\u001b[0m\u001b[0;34m\u001b[0m\u001b[0m\n",
            "\u001b[0;32m/usr/local/lib/python3.7/dist-packages/tally/dataset.py\u001b[0m in \u001b[0;36muse_spss\u001b[0;34m(self, file_path)\u001b[0m\n\u001b[1;32m     81\u001b[0m         \u001b[0;31m# this is okay because the path format will be the same as the OS running this\u001b[0m\u001b[0;34m\u001b[0m\u001b[0;34m\u001b[0m\u001b[0;34m\u001b[0m\u001b[0m\n\u001b[1;32m     82\u001b[0m \u001b[0;34m\u001b[0m\u001b[0m\n\u001b[0;32m---> 83\u001b[0;31m         \u001b[0;32mwith\u001b[0m \u001b[0mopen\u001b[0m\u001b[0;34m(\u001b[0m\u001b[0mfile_path\u001b[0m\u001b[0;34m,\u001b[0m \u001b[0mmode\u001b[0m\u001b[0;34m=\u001b[0m\u001b[0;34m'rb'\u001b[0m\u001b[0;34m)\u001b[0m \u001b[0;32mas\u001b[0m \u001b[0mfile\u001b[0m\u001b[0;34m:\u001b[0m\u001b[0;34m\u001b[0m\u001b[0;34m\u001b[0m\u001b[0m\n\u001b[0m\u001b[1;32m     84\u001b[0m             \u001b[0mfileContent\u001b[0m \u001b[0;34m=\u001b[0m \u001b[0mfile\u001b[0m\u001b[0;34m.\u001b[0m\u001b[0mread\u001b[0m\u001b[0;34m(\u001b[0m\u001b[0;34m)\u001b[0m\u001b[0;34m\u001b[0m\u001b[0;34m\u001b[0m\u001b[0m\n\u001b[1;32m     85\u001b[0m \u001b[0;34m\u001b[0m\u001b[0m\n",
            "\u001b[0;31mFileNotFoundError\u001b[0m: [Errno 2] No such file or directory: 'drive/MyDrive/deltapoll tally/Wave 10/ORD-727547-V8P0_2022.06.20_Final_Data_SPSS.sav'"
          ]
        }
      ]
    },
    {
      "cell_type": "code",
      "source": [
        "ds.use_spss('https://drive.google.com/file/d/1xt_aq3oQsbX0qYfPvvLN9pdd2fdudS8t/view?usp=sharing')"
      ],
      "metadata": {
        "colab": {
          "base_uri": "https://localhost:8080/",
          "height": 288
        },
        "id": "spLgQuQFH1FZ",
        "outputId": "f21aa227-10b3-4e40-c071-a53d63aebf6d"
      },
      "execution_count": null,
      "outputs": [
        {
          "output_type": "error",
          "ename": "FileNotFoundError",
          "evalue": "ignored",
          "traceback": [
            "\u001b[0;31m---------------------------------------------------------------------------\u001b[0m",
            "\u001b[0;31mFileNotFoundError\u001b[0m                         Traceback (most recent call last)",
            "\u001b[0;32m<ipython-input-9-947d362cb475>\u001b[0m in \u001b[0;36m<module>\u001b[0;34m\u001b[0m\n\u001b[0;32m----> 1\u001b[0;31m \u001b[0mds\u001b[0m\u001b[0;34m.\u001b[0m\u001b[0muse_spss\u001b[0m\u001b[0;34m(\u001b[0m\u001b[0;34m'https://drive.google.com/file/d/1xt_aq3oQsbX0qYfPvvLN9pdd2fdudS8t/view?usp=sharing'\u001b[0m\u001b[0;34m)\u001b[0m\u001b[0;34m\u001b[0m\u001b[0;34m\u001b[0m\u001b[0m\n\u001b[0m",
            "\u001b[0;32m/usr/local/lib/python3.7/dist-packages/tally/dataset.py\u001b[0m in \u001b[0;36muse_spss\u001b[0;34m(self, file_path)\u001b[0m\n\u001b[1;32m     81\u001b[0m         \u001b[0;31m# this is okay because the path format will be the same as the OS running this\u001b[0m\u001b[0;34m\u001b[0m\u001b[0;34m\u001b[0m\u001b[0;34m\u001b[0m\u001b[0m\n\u001b[1;32m     82\u001b[0m \u001b[0;34m\u001b[0m\u001b[0m\n\u001b[0;32m---> 83\u001b[0;31m         \u001b[0;32mwith\u001b[0m \u001b[0mopen\u001b[0m\u001b[0;34m(\u001b[0m\u001b[0mfile_path\u001b[0m\u001b[0;34m,\u001b[0m \u001b[0mmode\u001b[0m\u001b[0;34m=\u001b[0m\u001b[0;34m'rb'\u001b[0m\u001b[0;34m)\u001b[0m \u001b[0;32mas\u001b[0m \u001b[0mfile\u001b[0m\u001b[0;34m:\u001b[0m\u001b[0;34m\u001b[0m\u001b[0;34m\u001b[0m\u001b[0m\n\u001b[0m\u001b[1;32m     84\u001b[0m             \u001b[0mfileContent\u001b[0m \u001b[0;34m=\u001b[0m \u001b[0mfile\u001b[0m\u001b[0;34m.\u001b[0m\u001b[0mread\u001b[0m\u001b[0;34m(\u001b[0m\u001b[0;34m)\u001b[0m\u001b[0;34m\u001b[0m\u001b[0;34m\u001b[0m\u001b[0m\n\u001b[1;32m     85\u001b[0m \u001b[0;34m\u001b[0m\u001b[0m\n",
            "\u001b[0;31mFileNotFoundError\u001b[0m: [Errno 2] No such file or directory: 'https://drive.google.com/file/d/1xt_aq3oQsbX0qYfPvvLN9pdd2fdudS8t/view?usp=sharing'"
          ]
        }
      ]
    },
    {
      "cell_type": "code",
      "source": [
        "gender_cond_map = [\n",
        "    (1, \"Male\", {'QDP1':[1]}),\n",
        "    (2, \"Female\", {'QDP1':[2]}),\n",
        "]\n",
        "ds.derive(\n",
        "    name='W8Gender', \n",
        "    label='Which of the following best describes how you think of yourself?', \n",
        "    cond_map=gender_cond_map, \n",
        "    qtype=\"single\")\n",
        "\n",
        "age_cond_map = [\n",
        "    (1, '18-24', {'QDP2': list(range(18,25))}),\n",
        "    (2, '25-49', {'QDP2': list(range(25,50))}),\n",
        "    (3, '50-64', {'QDP2': list(range(50,65))}),\n",
        "    (4, '65+' , {'QDP2': list(range(65,200))}) \n",
        "]\n",
        "ds.derive(\n",
        "    name='W8Age', \n",
        "    label='And how old are you?', \n",
        "    cond_map=age_cond_map, \n",
        "    qtype=\"single\")\n",
        "\n",
        "socgrade_cond_map = [\n",
        "    (1, \"AB\", {'QDP15a':[1,2], 'QDP15b':[1,2]}),\n",
        "    (2, \"C1\", {'QDP15a':[3], 'QDP15b':[3]}),\n",
        "    (3, \"C2\", {'QDP15a':[4], 'QDP15b':[4]}),\n",
        "    (4, \"DE\", {'QDP15a':[5,6,7,8], 'QDP15b':[5,6,7,8]})\n",
        "]\n",
        "ds.derive(\n",
        "    name='W8SocGrade', \n",
        "    label='Please indicate which one of the following best describes the profession of the chief income earner in your household?', \n",
        "    cond_map=socgrade_cond_map, \n",
        "    qtype=\"single\")\n",
        "\n",
        "voteeu_cond_map = [\n",
        "    (1, \"Remain\", {'QDP10b':[2]}),\n",
        "    (2, \"Leave\", {'QDP10b':[1]}),\n",
        "    (3, \"DK DNV\", {'QDP10a':[1,2,3,4,6],'QDP10b':[3,4,5]})\n",
        "]\n",
        "ds.derive(\n",
        "    name='W8VoteEU', \n",
        "    label='In the Referendum on the 23rd of June 2016 on whether Britain should remain in or leave the European Union, which way did you vote?', \n",
        "    cond_map=voteeu_cond_map, \n",
        "    qtype=\"single\")\n",
        "\n",
        "region_cond_map = [\n",
        "    (1, \"North\", {'QDP3':[1,2,3]}),\n",
        "    (2, \"Midlands\", {'QDP3':[5,6]}),\n",
        "    (3, \"London\", {'QDP3':[10]}),\n",
        "    (4, \"South\", {'QDP3':[4,9,11]}),\n",
        "    (5, \"Wales\", {'QDP3':[7]}),\n",
        "    (6, \"Scotland\", {'QDP3':[8]}),\n",
        "    (7, \"Northern Ireland\", {'QDP3':[12]})\n",
        "]\n",
        "\n",
        "ds.derive(\n",
        "    name='W8Region', \n",
        "    label='Region', \n",
        "    cond_map=region_cond_map, \n",
        "    qtype=\"single\")\n",
        "\n",
        "quals_cond_map = [\n",
        "    (1, \"Not University\", {'QDP4':[1,4,5]}),\n",
        "    (2, \"University\", {'QDP4':[2,3]})\n",
        "]\n",
        "\n",
        "ds.derive(\n",
        "    name='W8Quals', \n",
        "    label='What is the highest educational level that you have achieved?', \n",
        "    cond_map=quals_cond_map, \n",
        "    qtype=\"single\")\n",
        "\n",
        "vote19b_cond_map = [\n",
        "    (1, \"Conservative\", {'QDP9b':[1]}),\n",
        "    (2, \"Labour\", {'QDP9b':[2]}),\n",
        "    (3, \"Lib Dem\", {'QDP9b':[3]}),\n",
        "    (4, \"SNP\", {'QDP9b':[4]}),\n",
        "    (5, \"UKIP / Brexit Party\", {'QDP9b':[6,7]}),\n",
        "    (6, \"Green Party\", {'QDP9b':[8]}),\n",
        "    (7, \"Others\", {'QDP9b':[5,9]}),\n",
        "    (8, \"DNV\", {'QDP9a':[1,2,3,4,6], 'QDP9b':[11]}),\n",
        "    (9, \"DK/Ref\", {'QDP9b':[10,12]})\n",
        "]\n",
        "ds.derive(\n",
        "    name='W8Vote19b', \n",
        "    label='Please indicate which one of the following best describes the profession of the chief income earner in your household?', \n",
        "    cond_map=vote19b_cond_map, \n",
        "    qtype=\"single\")\n",
        "\n",
        "pollatt_cond_map = [\n",
        "    (1, \"Low\", {'QDP11':[0,1,2,99]}),\n",
        "    (2, \"Medium\", {'QDP11':[3,4,5,6,7]}),\n",
        "    (3, \"High\", {'QDP11':[8,9,10]})\n",
        "]\n",
        "ds.derive(\n",
        "    name='W8PollAtt', \n",
        "    label='Region', \n",
        "    cond_map=pollatt_cond_map, \n",
        "    qtype=\"single\")\n",
        "\n",
        "eduage_cond_map = [\n",
        "    (1, 'Male Over 65', 'intersection',{'W8Gender':[1], 'W8Age':[4]}),\n",
        "    (2, 'Male 50-65 High', 'intersection',{'W8Gender':[1], 'W8Quals': [2], 'W8Age':[3]}),\n",
        "    (3, 'Male 50-65 Mid Low', 'intersection',{'W8Gender':[1], 'W8Quals': [1], 'W8Age':[3]}),\n",
        "    (4, 'Male 25-49 High', 'intersection',{'W8Gender':[1], 'W8Quals': [2], 'W8Age':[2]}),\n",
        "    (5, 'Male 25-49 Mid Low','intersection', {'W8Gender':[1], 'W8Quals': [1], 'W8Age':[2]}),\n",
        "    (6, 'Male 18-24 High', 'intersection',{'W8Gender':[1], 'W8Quals': [2], 'W8Age':[1]}),\n",
        "    (7, 'Male 18-24 Mid & Low', 'intersection',{'W8Gender':[1], 'W8Quals': [1], 'W8Age':[1]}),\n",
        "    (8, 'Female Over 65', 'intersection',{'W8Gender':[2], 'W8Age':[4]}),\n",
        "    (9, 'Female 50-65 High', 'intersection',{'W8Gender':[2], 'W8Quals': [2], 'W8Age':[3]}),\n",
        "    (10, 'Female 50-65 Mid Low', 'intersection',{'W8Gender':[2], 'W8Quals': [1], 'W8Age':[3]}),\n",
        "    (11, 'Female 25-49 High', 'intersection',{'W8Gender':[2], 'W8Quals': [2], 'W8Age':[2]}),\n",
        "    (12, 'Female 25-49 Mid Low', 'intersection',{'W8Gender':[2], 'W8Quals': [1], 'W8Age':[2]}),\n",
        "    (13, 'Female 18-24 High','intersection', {'W8Gender':[2], 'W8Quals': [2], 'W8Age':[1]}),\n",
        "    (14, 'Female 18-24 Mid & Low','intersection', {'W8Gender':[2], 'W8Quals': [1], 'W8Age':[1]})\n",
        "]\n",
        "ds.derive(\n",
        "    name='W8EduAge', \n",
        "    label='W8EduAge', \n",
        "    cond_map=eduage_cond_map, \n",
        "    qtype=\"single\")"
      ],
      "metadata": {
        "id": "xc48MMT37hFy"
      },
      "execution_count": null,
      "outputs": []
    },
    {
      "cell_type": "code",
      "source": [
        "ds.crosstab(x='W8Age')"
      ],
      "metadata": {
        "id": "Q44-cNh38yK2"
      },
      "execution_count": null,
      "outputs": []
    },
    {
      "cell_type": "code",
      "source": [
        "# SPSSINC RAKE DIM1 = W8EduAge 1 .104 2 .03 3 .086 4 .077 5 .131 6 .009 7 .047 8 .125 9 .028 10 .093 11 .084 12 .13 13 .011 14 .045 \n",
        "# DIM2=W8SocGrade 1 .28 2 .29 3 .21 4 .22 \n",
        "# DIM3=W8VoteEU 1 .393 2 .427 3 .18 \n",
        "# DIM4=W8Region 1 .234 2 .16 3 .13 4 .315 5 .048 6 .084 7 .029 \n",
        "# DIM5=W8Vote19b 1 .382 2 .282 3 .101 4 .034 5 .018 6 .024 7 .034 8 .12 9 .005 \n",
        "# DIM6=W8PollAtt 1 .19 2 .61 3 .2 \n",
        "\n",
        "UKw8schema = {\n",
        "    'W8EduAge': {1 :10.4 ,2 :3 ,3 :8.6 ,4 :7.7 ,5 :13.1 ,6 :0.9 ,7 :4.7 ,8 :12.5 ,9 :2.8 ,10 :9.3 ,11 :8.4 ,12 :13 ,13 :1.1 ,14 :4.5},\n",
        "    'W8SocGrade': {1 :28, 2 :29, 3 :21, 4 :22},\n",
        "    'W8VoteEU': {1 :39.3 ,2 :42.7, 3 :18},\n",
        "    'W8Region': {1 :23.4 ,2 :16 ,3 :13 ,4 :31.5 ,5 :4.8 ,6 :8.4 ,7 :2.9},\n",
        "    'W8Vote19b': {1 :39.1 ,2 :28.9 ,3 :10.3 ,4 :3.5 ,5 :1.8 ,6 :2.5 ,7 :1.4 ,8 :12 ,9 :0.5},\n",
        "    'W8PollAtt': {1 :19, 2 :61 ,3 :20}\n",
        "}\n",
        "\n",
        "ds.weight(\n",
        "    name='UKw8', \n",
        "    variable='UKw8', \n",
        "    unique_key='respid', \n",
        "    scheme=UKw8schema)"
      ],
      "metadata": {
        "id": "rhILQf7t8OUk"
      },
      "execution_count": null,
      "outputs": []
    },
    {
      "cell_type": "code",
      "source": [
        "GBw8schema = {\n",
        "    'W8EduAge': {1 :10.4 ,2 :3 ,3 :8.6 ,4 :7.7 ,5 :13.1 ,6 :0.9 ,7 :4.7 ,8 :12.5 ,9 :2.8 ,10 :9.3 ,11 :8.4 ,12 :13 ,13 :1.1 ,14 :4.5},\n",
        "    'W8SocGrade': {1 :28, 2 :29, 3 :21, 4 :22},\n",
        "    'W8VoteEU': {1 :39.3 ,2 :42.7, 3 :18},\n",
        "    'W8Region': {1 :24.1 ,2 :16.5 ,3 :13.4 ,4 :32.4 ,5 :4.9 ,6 :8.7 ,7 :0},\n",
        "    'W8Vote19b': {1 :39.1 ,2 :28.9 ,3 :10.3 ,4 :3.5 ,5 :1.8 ,6 :2.5 ,7 :1.4 ,8 :12 ,9 :0.5},\n",
        "    'W8PollAtt': {1 :19, 2 :61 ,3 :20}\n",
        "}\n",
        "\n",
        "ds.weight(\n",
        "    name='GBw8', \n",
        "    variable='GBw8', \n",
        "    unique_key='respid', \n",
        "    scheme=GBw8schema)"
      ],
      "metadata": {
        "id": "1PIisBkBDA9l"
      },
      "execution_count": null,
      "outputs": []
    },
    {
      "cell_type": "code",
      "source": [
        "total_cond_map = [ \n",
        "(1, \"Total\", {'W8Gender':[1,2]}),\n",
        "]\n",
        "\n",
        "tabs_socgrade_cond_map = [  \n",
        "(1, \"ABC1\", {'W8SocGrade':[1,2]}),\n",
        "(2, \"C2DE\", {'W8SocGrade':[3,4]})\n",
        "]\n",
        "\n",
        "tabs_gender_cond_map = [ \n",
        "(1, \"Male\", {'W8Gender':[1]}),\n",
        "(2, \"Female\", {'W8Gender':[2]})\n",
        "]\n",
        "\n",
        "tabs_euref_cond_map = [ \n",
        "(1, \"Remain\", {'W8VoteEU':[1]}),\n",
        "(2, \"Leave\", {'W8VoteEU':[2]})\n",
        "]\n",
        "\n",
        "tabs_vote19_cond_map = [ \n",
        "(1, \"Con\", {'W8Vote19b':[1]}),\n",
        "(2, \"Lab\", {'W8Vote19b':[2]}),\n",
        "(3, \"Lib Dem\", {'W8Vote19b':[3]}),\n",
        "(4, \"Other\", {'W8Vote19b':list(range(4,8))})\n",
        "]\n",
        "\n",
        "tabs_boonage_cond_map = [ \n",
        "(1, \"18 to 24\", {'QDP2':list(range(18,25))}),\n",
        "(2, \"25 to 34\", {'QDP2':list(range(25,35))}),\n",
        "(3, \"35 to 54\", {'QDP2':list(range(35,55))}),\n",
        "(4, \"55 to 64\", {'QDP2':list(range(55,65))}),\n",
        "(5, \"65+ \", {'QDP2':list(range(65,200))})\n",
        "]\n",
        "\n",
        "tabs_region_cond_map = [ \n",
        "(1, \"London\", {'W8Region':[3]}),\n",
        "(2, \"Rest of South\", {'W8Region':[4]}),\n",
        "(3, \"Midlands\", {'W8Region':[2]}),\n",
        "(4, \"North\", {'W8Region':[1]}),\n",
        "(5, \"Wales\", {'W8Region':[5]}),\n",
        "(6, \"Scotland\", {'W8Region':[6]}),\n",
        "(7, \"Northern Ireland\", {'W8Region':[7]})\n",
        "]"
      ],
      "metadata": {
        "id": "jK99ZRlpAMaF"
      },
      "execution_count": null,
      "outputs": []
    },
    {
      "cell_type": "code",
      "source": [
        "ds.derive(\n",
        "    name='tabs_total', \n",
        "    label='Total', \n",
        "    cond_map=total_cond_map, \n",
        "    qtype=\"single\")\n",
        "\n",
        "ds.derive(\n",
        "    name='tabs_socgrade', \n",
        "    label='Social Grade', \n",
        "    cond_map=tabs_socgrade_cond_map, \n",
        "    qtype=\"single\")\n",
        "\n",
        "ds.derive(\n",
        "    name='tabs_region', \n",
        "    label='Region', \n",
        "    cond_map=tabs_region_cond_map, \n",
        "    qtype=\"single\")\n",
        "\n",
        "ds.derive(\n",
        "    name='tabs_gender', \n",
        "    label='Gender', \n",
        "    cond_map=tabs_gender_cond_map, \n",
        "    qtype=\"single\")\n",
        "\n",
        "ds.derive(\n",
        "    name='tabs_vote19', \n",
        "    label='GE 19 Vote', \n",
        "    cond_map=tabs_vote19_cond_map, \n",
        "    qtype=\"single\")\n",
        "\n",
        "ds.derive(\n",
        "    name='tabs_boonage', \n",
        "    label='Age', \n",
        "    cond_map=tabs_boonage_cond_map, \n",
        "    qtype=\"single\")\n",
        "\n",
        "ds.derive(\n",
        "    name='tabs_euref', \n",
        "    label='EU Ref Vote\"', \n",
        "    cond_map=tabs_euref_cond_map, \n",
        "    qtype=\"single\")"
      ],
      "metadata": {
        "id": "KCyeWju9AN0s"
      },
      "execution_count": null,
      "outputs": []
    },
    {
      "cell_type": "code",
      "source": [
        "# Martin Breaks\n",
        "\n",
        "tabs_work_cond_map = [ \n",
        "(1, \"Full time\", {'QDP5':[1]}),\n",
        "(2, \"Part time\", {'QDP5':[2]}),\n",
        "(3, \"Unemployed\", {'QDP5':[3,4]}),\n",
        "(4, \"Retired\", {'QDP5':[5,6]}),\n",
        "(5, \"Other\", {'QDP5':[7,8]})\n",
        "]\n",
        "\n",
        "tabs_education_cond_map = [  \n",
        "(1, \"Secondary\", {'QDP4':[1]}),\n",
        "(2, \"Degree or above\", {'QDP4':[2,3]}),\n",
        "(3, \"Current student\", {'QDP4':[4]}),\n",
        "(4, \"No formal education\", {'QDP4':[5]})\n",
        "]\n",
        "\n",
        "tabs_gender_cond_map = [ \n",
        "(1, \"Male\", {'W8Gender':[1]}),\n",
        "(2, \"Female\", {'W8Gender':[2]})\n",
        "]\n",
        "\n",
        "tabs_euref_cond_map = [ \n",
        "(1, \"Remain\", {'W8VoteEU':[1]}),\n",
        "(2, \"Leave\", {'W8VoteEU':[2]})\n",
        "]\n",
        "\n",
        "tabs_vote19_cond_map = [ \n",
        "(1, \"Con\", {'W8Vote19b':[1]}),\n",
        "(2, \"Lab\", {'W8Vote19b':[2]}),\n",
        "(3, \"Lib Dem\", {'W8Vote19b':[3]}),\n",
        "(4, \"Other\", {'W8Vote19b':list(range(4,8))})\n",
        "]\n",
        "\n",
        "tabs_boonage_cond_map = [ \n",
        "(1, \"18 to 24\", {'QDP2':list(range(18,25))}),\n",
        "(2, \"25 to 34\", {'QDP2':list(range(25,35))}),\n",
        "(3, \"35 to 54\", {'QDP2':list(range(35,55))}),\n",
        "(4, \"55 to 64\", {'QDP2':list(range(55,65))}),\n",
        "(5, \"65+ \", {'QDP2':list(range(65,200))})\n",
        "]\n",
        "\n",
        "tabs_region_cond_map = [ \n",
        "(1, \"London\", {'W8Region':[3]}),\n",
        "(2, \"Rest of South\", {'W8Region':[4]}),\n",
        "(3, \"Midlands\", {'W8Region':[2]}),\n",
        "(4, \"North\", {'W8Region':[1]}),\n",
        "(5, \"Wales\", {'W8Region':[5]}),\n",
        "(6, \"Scotland\", {'W8Region':[6]}),\n",
        "(7, \"Northern Ireland\", {'W8Region':[7]})\n",
        "]"
      ],
      "metadata": {
        "id": "TLPrywJyiIZs"
      },
      "execution_count": null,
      "outputs": []
    },
    {
      "cell_type": "code",
      "source": [
        "ds.derive(\n",
        "    name='tabs_total', \n",
        "    label='Total', \n",
        "    cond_map=total_cond_map, \n",
        "    qtype=\"single\")\n",
        "\n",
        "ds.derive(\n",
        "    name='tabs_socgrade', \n",
        "    label='Social Grade', \n",
        "    cond_map=tabs_socgrade_cond_map, \n",
        "    qtype=\"single\")\n",
        "\n",
        "ds.derive(\n",
        "    name='tabs_region', \n",
        "    label='Region', \n",
        "    cond_map=tabs_region_cond_map, \n",
        "    qtype=\"single\")\n",
        "\n",
        "ds.derive(\n",
        "    name='tabs_gender', \n",
        "    label='Gender', \n",
        "    cond_map=tabs_gender_cond_map, \n",
        "    qtype=\"single\")\n",
        "\n",
        "ds.derive(\n",
        "    name='tabs_vote19', \n",
        "    label='GE 19 Vote', \n",
        "    cond_map=tabs_vote19_cond_map, \n",
        "    qtype=\"single\")\n",
        "\n",
        "ds.derive(\n",
        "    name='tabs_boonage', \n",
        "    label='Age', \n",
        "    cond_map=tabs_boonage_cond_map, \n",
        "    qtype=\"single\")\n",
        "\n",
        "ds.derive(\n",
        "    name='tabs_euref', \n",
        "    label='EU Ref Vote\"', \n",
        "    cond_map=tabs_euref_cond_map, \n",
        "    qtype=\"single\")"
      ],
      "metadata": {
        "id": "3iFJGmDgiPcy"
      },
      "execution_count": null,
      "outputs": []
    },
    {
      "cell_type": "code",
      "source": [
        "ds.write_spss('drive/MyDrive/deltapoll tally/Wave 10/my_new_spss_file.sav')"
      ],
      "metadata": {
        "id": "wnxzncUYyQMR"
      },
      "execution_count": null,
      "outputs": []
    },
    {
      "cell_type": "code",
      "source": [
        "sheet1 = ds.crosstab(\n",
        "    crosstabs=[{\n",
        "        \"x\":[\"TQ1_15\", \"TQ2_15\"], \"y\":['tabs_total','tabs_gender','tabs_socgrade','tabs_region','tabs_vote19','tabs_boonage','tabs_euref']\n",
        "    }],\n",
        "    add_format_column=True,\n",
        "    format='dict'\n",
        ")\n",
        "sheet2 = ds.crosstab(\n",
        "    crosstabs=[\n",
        "        {\"x\":[\"QDP11\"], \"y\":['tabs_total','tabs_gender','tabs_socgrade','tabs_region','tabs_vote19','tabs_boonage','tabs_euref'], \"stats\":[\"mean\"]},\n",
        "        \n",
        "    ],\n",
        "    add_format_column=True,\n",
        "    format='dict'\n",
        ")\n",
        "\n",
        "dataframes = [sheet1['result'], sheet2['result']]\n",
        "res = ds.build_excel_from_dataframes(filename='drive/MyDrive/deltapoll tally/Wave 10/myresultfile.xlsx', dataframes=dataframes)"
      ],
      "metadata": {
        "id": "LlQYcYnEyUyJ"
      },
      "execution_count": null,
      "outputs": []
    }
  ]
}